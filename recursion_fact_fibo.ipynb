{
 "cells": [
  {
   "cell_type": "markdown",
   "metadata": {},
   "source": [
    "With Base Case\n",
    "\n",
    "tail recursion (similar to iteration) (memory efficient)"
   ]
  },
  {
   "cell_type": "code",
   "execution_count": 2,
   "metadata": {
    "scrolled": true
   },
   "outputs": [
    {
     "name": "stdout",
     "output_type": "stream",
     "text": [
      "5\n",
      "4\n",
      "3\n",
      "2\n",
      "1\n"
     ]
    }
   ],
   "source": [
    "def tail(n):\n",
    "    if n==0:\n",
    "        return\n",
    "    #do some operation\n",
    "    print(n)\n",
    "    \n",
    "    tail(n-1)\n",
    "    \n",
    "if __name__ == \"__main__\":\n",
    "    \n",
    "    tail(5)"
   ]
  },
  {
   "cell_type": "markdown",
   "metadata": {},
   "source": [
    "\n",
    "\n",
    "\n",
    "No Base Case"
   ]
  },
  {
   "cell_type": "code",
   "execution_count": 2,
   "metadata": {},
   "outputs": [
    {
     "ename": "SyntaxError",
     "evalue": "unexpected EOF while parsing (<ipython-input-2-224c10aae06e>, line 12)",
     "output_type": "error",
     "traceback": [
      "\u001b[1;36m  File \u001b[1;32m\"<ipython-input-2-224c10aae06e>\"\u001b[1;36m, line \u001b[1;32m12\u001b[0m\n\u001b[1;33m    \u001b[0m\n\u001b[1;37m    ^\u001b[0m\n\u001b[1;31mSyntaxError\u001b[0m\u001b[1;31m:\u001b[0m unexpected EOF while parsing\n"
     ]
    }
   ],
   "source": [
    "def tail(n):\n",
    "    #if n==0:\n",
    "        #return\n",
    "    #do some operation\n",
    "    print(n)\n",
    "    \n",
    "    tail(n-1)\n",
    "    \n",
    "if __name__ == \"__main__\":\n",
    "    \n",
    "    #tail(5)\n",
    "    "
   ]
  },
  {
   "cell_type": "markdown",
   "metadata": {},
   "source": [
    "## ----------------------------"
   ]
  },
  {
   "cell_type": "markdown",
   "metadata": {},
   "source": [
    "Head recursion (not memory efficient)"
   ]
  },
  {
   "cell_type": "code",
   "execution_count": 5,
   "metadata": {},
   "outputs": [
    {
     "name": "stdout",
     "output_type": "stream",
     "text": [
      "1\n",
      "2\n",
      "3\n",
      "4\n",
      "5\n"
     ]
    }
   ],
   "source": [
    "def tail(n):\n",
    "    if n==0:\n",
    "        return\n",
    "    #do some operation\n",
    "    print(n)\n",
    "    \n",
    "    tail(n-1)\n",
    "    \n",
    "def head(n):\n",
    "    if n==0:\n",
    "        return\n",
    "    \n",
    "    head(n-1)\n",
    "    \n",
    "    #do some operation\n",
    "    print(n)\n",
    "    \n",
    "if __name__ == \"__main__\":\n",
    "    \n",
    "    head(5)"
   ]
  },
  {
   "cell_type": "markdown",
   "metadata": {},
   "source": [
    "## Notes\n",
    "Recursion and Stack memory\n",
    "\n",
    "Next I transform a head recursion to a tail\n",
    "   "
   ]
  },
  {
   "cell_type": "code",
   "execution_count": 11,
   "metadata": {},
   "outputs": [
    {
     "name": "stdout",
     "output_type": "stream",
     "text": [
      "720\n"
     ]
    }
   ],
   "source": [
    "#Head recursion  \n",
    "def factorial (n):\n",
    "    if n==1:\n",
    "        return 1\n",
    "    subresult1 = factorial (n-1)\n",
    "    subresult2 = n*subresult1\n",
    "    \n",
    "    return subresult2\n",
    "if __name__ == \"__main__\":\n",
    "    print(factorial(6))"
   ]
  },
  {
   "cell_type": "code",
   "execution_count": 12,
   "metadata": {},
   "outputs": [
    {
     "name": "stdout",
     "output_type": "stream",
     "text": [
      "720\n"
     ]
    }
   ],
   "source": [
    "#tail recursion\n",
    "def factorial (n):\n",
    "    if n==1:\n",
    "        return 1\n",
    "    subresult1 = factorial (n-1)\n",
    "    subresult2 = n*subresult1\n",
    "    \n",
    "    return subresult2\n",
    "\n",
    "#start of transformation\n",
    "\n",
    "def factorial_accumulator(n,accumulator):\n",
    "    \n",
    "    if n==1:\n",
    "        return accumulator\n",
    "    \n",
    "    return factorial_accumulator(n-1,n*accumulator)\n",
    "\n",
    "if __name__ == \"__main__\":\n",
    "    \n",
    "    print(factorial(6))"
   ]
  },
  {
   "cell_type": "markdown",
   "metadata": {},
   "source": [
    "fibonacci numbers\n",
    "    calculating fibonacci numbers with recursion"
   ]
  },
  {
   "cell_type": "code",
   "execution_count": 13,
   "metadata": {},
   "outputs": [
    {
     "name": "stdout",
     "output_type": "stream",
     "text": [
      "55\n"
     ]
    }
   ],
   "source": [
    "#head recursion\n",
    "\n",
    "def fibonacci(n):\n",
    "    \n",
    "    #2 base cases\n",
    "    \n",
    "    if n==0: return 0\n",
    "    if n==1: return 1\n",
    "    \n",
    "    fib1 = fibonacci(n-1)\n",
    "    fib2 = fibonacci(n-2)\n",
    "    \n",
    "    result = fib1+fib2\n",
    "    \n",
    "    return result\n",
    "\n",
    "if __name__ == \"__main__\":\n",
    "    \n",
    "    print(fibonacci(10))\n",
    "    "
   ]
  },
  {
   "cell_type": "code",
   "execution_count": 23,
   "metadata": {},
   "outputs": [
    {
     "name": "stdout",
     "output_type": "stream",
     "text": [
      "55\n"
     ]
    }
   ],
   "source": [
    "#tail recursion\n",
    "\n",
    "def fibonacci(n):\n",
    "    \n",
    "    #2 base cases\n",
    "    \n",
    "    if n==0: return 0\n",
    "    if n==1: return 1\n",
    "    \n",
    "    fib1 = fibonacci(n-1)\n",
    "    fib2 = fibonacci(n-2)\n",
    "    \n",
    "    result = fib1+fib2\n",
    "    \n",
    "    return result\n",
    "\n",
    "#start of transformation\n",
    "\n",
    "def fibonacci_tail(n,a=0,b=1):\n",
    "\n",
    "    if n==0: return a;\n",
    "    if n==1: return b;\n",
    "    \n",
    "    return fibonacciTail(n-1,b,a+b);\n",
    "\n",
    "\n",
    "if __name__ == \"__main__\":\n",
    "    \n",
    "    print(fibonacci(10))\n",
    "    "
   ]
  },
  {
   "cell_type": "code",
   "execution_count": null,
   "metadata": {},
   "outputs": [],
   "source": []
  }
 ],
 "metadata": {
  "kernelspec": {
   "display_name": "Python 3",
   "language": "python",
   "name": "python3"
  },
  "language_info": {
   "codemirror_mode": {
    "name": "ipython",
    "version": 3
   },
   "file_extension": ".py",
   "mimetype": "text/x-python",
   "name": "python",
   "nbconvert_exporter": "python",
   "pygments_lexer": "ipython3",
   "version": "3.8.3"
  }
 },
 "nbformat": 4,
 "nbformat_minor": 4
}
