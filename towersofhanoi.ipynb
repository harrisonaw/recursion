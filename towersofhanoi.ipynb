{
 "cells": [
  {
   "cell_type": "markdown",
   "metadata": {},
   "source": [
    "Towers of Hanoi"
   ]
  },
  {
   "cell_type": "code",
   "execution_count": 13,
   "metadata": {},
   "outputs": [
    {
     "name": "stdout",
     "output_type": "stream",
     "text": [
      "Plate 1 from A to C\n",
      "Plate 2 from A to B\n",
      "Plate 1 from C to B\n",
      "Plate 3 from A to C\n",
      "Plate 1 from B to A\n",
      "Plate 2 from B to C\n",
      "Plate 1 from A to C\n"
     ]
    }
   ],
   "source": [
    "def hanoi(n,rod_from,rod_middle,rod_to):\n",
    "    \n",
    "    #when n-1 plates are in the final position\n",
    "    if n==1:\n",
    "        print(\"Plate 1 from %s to %s\"%(rod_from,rod_to))\n",
    "        return\n",
    "    \n",
    "    #moving n-1 plates off the larges one to be able to move that\n",
    "    hanoi(n-1,rod_from,rod_to,rod_middle)\n",
    "    \n",
    "    #moving the actual largest one\n",
    "    print(\"Plate %s from %s to %s\"%(n,rod_from,rod_to))\n",
    "    \n",
    "    #placing n-1 plates on the top of the largest one\n",
    "    hanoi(n-1,rod_middle,rod_from,rod_to)\n",
    "    \n",
    "if __name__ == \"__main__\":\n",
    "\n",
    "    \n",
    "    hanoi(3,'A','B','C')"
   ]
  },
  {
   "cell_type": "code",
   "execution_count": null,
   "metadata": {},
   "outputs": [],
   "source": []
  }
 ],
 "metadata": {
  "kernelspec": {
   "display_name": "Python 3",
   "language": "python",
   "name": "python3"
  },
  "language_info": {
   "codemirror_mode": {
    "name": "ipython",
    "version": 3
   },
   "file_extension": ".py",
   "mimetype": "text/x-python",
   "name": "python",
   "nbconvert_exporter": "python",
   "pygments_lexer": "ipython3",
   "version": "3.8.3"
  }
 },
 "nbformat": 4,
 "nbformat_minor": 4
}
